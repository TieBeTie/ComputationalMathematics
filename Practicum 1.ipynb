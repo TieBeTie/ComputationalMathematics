{
  "nbformat": 4,
  "nbformat_minor": 0,
  "metadata": {
    "colab": {
      "provenance": [],
      "authorship_tag": "ABX9TyMIAcy4gdtJ98Op0rbjeoeM",
      "include_colab_link": true
    },
    "kernelspec": {
      "name": "python3",
      "display_name": "Python 3"
    },
    "language_info": {
      "name": "python"
    }
  },
  "cells": [
    {
      "cell_type": "markdown",
      "metadata": {
        "id": "view-in-github",
        "colab_type": "text"
      },
      "source": [
        "<a href=\"https://colab.research.google.com/github/TieBeTie/ComputationalMathematics/blob/main/Practicum_1.ipynb\" target=\"_parent\"><img src=\"https://colab.research.google.com/assets/colab-badge.svg\" alt=\"Open In Colab\"/></a>"
      ]
    },
    {
      "cell_type": "markdown",
      "source": [
        "Алгоритм метода QR-разложения:\n",
        "\n",
        "1) Вычисляем матрицу $Q$ и $R$ методом модифицированного алгоритма Грамма-Шмидта.\n",
        "\n",
        "2) Решаем систем $ Rx = Q^Tb $ методом обратной подстановки."
      ],
      "metadata": {
        "id": "xHHXPK24vqUA"
      }
    },
    {
      "cell_type": "code",
      "execution_count": 9,
      "metadata": {
        "id": "O6jPaU2uvoFb"
      },
      "outputs": [],
      "source": [
        "import numpy as np\n",
        "\n",
        "def qr_solve(A, b):\n",
        "    m, n = A.shape\n",
        "    Q = np.zeros((m, n))\n",
        "    R = np.zeros((n, n))\n",
        "    for j in range(n):\n",
        "        v = A[:, j].astype('float64')\n",
        "        for i in range(j):\n",
        "            R[i, j] = np.dot(Q[:, i], A[:, j])\n",
        "            v -= (R[i, j] * Q[:, i])\n",
        "        R[j, j] = np.linalg.norm(v)\n",
        "        Q[:, j] = v / R[j, j]\n",
        "    x = np.linalg.solve(R, np.dot(Q.T, b))\n",
        "    return Q, R, x"
      ]
    },
    {
      "cell_type": "markdown",
      "source": [
        "Проеверяем решение на квадратной невырожденной матрице и прямоугольной матрице с $m > n$ с линейно независимыми столбцами:"
      ],
      "metadata": {
        "id": "FjXMHxzSwjvc"
      }
    },
    {
      "cell_type": "code",
      "source": [
        "import numpy as np\n",
        "\n",
        "# Квадратная невырожденная матрица\n",
        "A = np.array([[1, 1, 1], [2, -1, 3], [3, 1, 4]])\n",
        "b = np.array([6, 2, 2])\n",
        "Q, R, x = qr_solve(A, b)\n",
        "x_lstsq = np.linalg.solve(A, b)\n",
        "x_norm = np.linalg.norm(x - x_lstsq)\n",
        "print(\"Квадратная невырожденная матрица:\")\n",
        "print(\"Норма разницы: \", x_norm)\n",
        "\n",
        "# Прямоугольная матрица с m > n с линейно независимыми столбцами\n",
        "A = np.array([[1, 2], [3, 4], [5, 6]])\n",
        "b = np.array([1, 2, 3])\n",
        "Q, R, x = qr_solve(A, b)\n",
        "x_lstsq, _, _, _ = np.linalg.lstsq(A, b, rcond=None)\n",
        "x_norm = np.linalg.norm(x - x_lstsq)\n",
        "print(\"Прямоугольная матрица с m > n:\")\n",
        "print(\"Норма разницы: \", x_norm)\n"
      ],
      "metadata": {
        "colab": {
          "base_uri": "https://localhost:8080/"
        },
        "id": "7bODENikwjHy",
        "outputId": "ef630e14-31df-4726-813a-4ce501bf5bc9"
      },
      "execution_count": 18,
      "outputs": [
        {
          "output_type": "stream",
          "name": "stdout",
          "text": [
            "Квадратная невырожденная матрица:\n",
            "Норма разницы:  1.1332892127741838e-13\n",
            "Прямоугольная матрица с m > n:\n",
            "Норма разницы:  5.314864752572426e-16\n"
          ]
        }
      ]
    }
  ]
}
