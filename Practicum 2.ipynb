{
  "nbformat": 4,
  "nbformat_minor": 0,
  "metadata": {
    "colab": {
      "provenance": [],
      "authorship_tag": "ABX9TyMCxCpqNtg9YGCK8Xdbj0T9",
      "include_colab_link": true
    },
    "kernelspec": {
      "name": "python3",
      "display_name": "Python 3"
    },
    "language_info": {
      "name": "python"
    }
  },
  "cells": [
    {
      "cell_type": "markdown",
      "metadata": {
        "id": "view-in-github",
        "colab_type": "text"
      },
      "source": [
        "<a href=\"https://colab.research.google.com/github/TieBeTie/ComputationalMathematics/blob/main/Practicum2.ipynb\" target=\"_parent\"><img src=\"https://colab.research.google.com/assets/colab-badge.svg\" alt=\"Open In Colab\"/></a>"
      ]
    },
    {
      "cell_type": "markdown",
      "source": [
        "Итерационный метод Ричардсона - это метод решения линейных систем, который основывается на итеративном улучшении приближенного решения. Он может быть применен к любой системе линейных уравнений, где матрица $A$ является диагонально доминантной. Он имеет следующий вид:\n",
        "\n",
        "$x_{k+1} = x_k + τ (b - Ax_k)$\n",
        "\n",
        "где $x_k$ - приближенное решение на k-ой итерации, $τ$ - итерационный параметр, и $b$ - правая часть.\n",
        "\n",
        "Для начала, создадим функцию richardson_iteration, которая будет решать систему линейных уравнений методом Ричардсона:"
      ],
      "metadata": {
        "id": "rerVfZVt7I19"
      }
    },
    {
      "cell_type": "code",
      "execution_count": 2,
      "metadata": {
        "id": "bKRo8Dkz3aFx"
      },
      "outputs": [],
      "source": [
        "import numpy as np\n",
        "\n",
        "def richardson_iteration(A, b, tau, max_iter, tol):\n",
        "    # Вычисляем диагональную матрицу из A\n",
        "    D = np.diag(np.diag(A))\n",
        "    # Вычисляем обратную матрицу D\n",
        "    D_inv = np.linalg.inv(D)\n",
        "    # Начальное приближение\n",
        "    x0 = np.zeros_like(b)\n",
        "    # Инициализируем массив для хранения нормы невязки\n",
        "    residuals = np.zeros(max_iter)\n",
        "    # Итерационный процесс\n",
        "    for i in range(max_iter):\n",
        "        # Вычисляем новое приближение\n",
        "        x = x0 + tau * D_inv.dot(b - A.dot(x0))\n",
        "        # Вычисляем норму невязки\n",
        "        residual = np.linalg.norm(b - A.dot(x))\n",
        "        residuals[i] = residual\n",
        "        # Проверяем критерий остановки\n",
        "        if residual < tol:\n",
        "            break\n",
        "        # Обновляем приближенное решение\n",
        "        x0 = x\n",
        "    return x, residuals[:i+1]\n"
      ]
    },
    {
      "cell_type": "markdown",
      "source": [
        "Теперь создадим функцию generate_random_matrix, которая будет создавать матрицу A произвольного размера $n > 100$:"
      ],
      "metadata": {
        "id": "uGj6dNA27dGb"
      }
    },
    {
      "cell_type": "code",
      "source": [
        "def generate_random_matrix(n):\n",
        "    # Создаем случайную диагонально доминантную матрицу\n",
        "    A = np.random.rand(n, n)\n",
        "    A = A + A.T + np.diag(np.arange(n))\n",
        "    return A"
      ],
      "metadata": {
        "id": "M6xNhcgo7pNg"
      },
      "execution_count": 3,
      "outputs": []
    },
    {
      "cell_type": "markdown",
      "source": [
        "Также создадим функцию generate_b_vector, которая будет генерировать правую часть системы линейных уравнений:"
      ],
      "metadata": {
        "id": "6zFw5Id47uNl"
      }
    },
    {
      "cell_type": "code",
      "source": [
        "def generate_b_vector(A):\n",
        "    # Генерируем случайный вектор\n",
        "    b = np.random.rand(A.shape[0])\n",
        "    # Нормируем его\n",
        "    b = b / np.linalg.norm(b)\n",
        "    return b\n"
      ],
      "metadata": {
        "id": "uzFXLT8h7vYb"
      },
      "execution_count": 4,
      "outputs": []
    },
    {
      "cell_type": "markdown",
      "source": [
        "Теперь можем создать основную программу:"
      ],
      "metadata": {
        "id": "K-04X5HC7zI2"
      }
    },
    {
      "cell_type": "code",
      "source": [
        "import numpy as np\n",
        "import matplotlib.pyplot as plt\n",
        "\n",
        "# Определяем параметры\n",
        "n = 150\n",
        "tau_values = [0.0001, 0.001, 0.01]  # значения итерационного параметра tau\n",
        "max_iter = 1000  # максимальное число итераций\n",
        "tol = 1e-6  # критерий остановки для нормы невязки\n",
        "\n",
        "# генерируем матрицу A, вектор b, и точное решение x_true\n",
        "A = generate_random_matrix(n)\n",
        "b = generate_b_vector(A)\n",
        "eigenvalues = np.linalg.eigvals(A)\n",
        "x_true = np.linalg.solve(A, b)\n",
        "\n",
        "# рассчитываем оценку собственных чисел и оптимальный параметр tau\n",
        "radii = np.sum(np.abs(A), axis=1) - np.abs(np.diag(A))\n",
        "tau_optimal_exact = 2 / (np.max(eigenvalues) + np.min(eigenvalues))\n",
        "tau_optimal_estimated = 1 / np.max(radii)\n",
        "tau_random = np.random.uniform(0, 2 / np.max(eigenvalues))\n",
        "\n",
        "# выводим результаты\n",
        "print(f\"Произвольное значение параметра tau: {tau_random:.4f}\")\n",
        "print(f\"Оптимальное значение параметра tau, рассчитанного по точным собственным числам: {tau_optimal_exact:.4f}\")\n",
        "print(f\"Оптимальное значение параметра tau, рассчитанное по оценке собственных чисел: {tau_optimal_estimated:.4f}\")\n",
        "print(f\"Максимальное и минимальное собственные числа: {np.max(eigenvalues):.4f}, {np.min(eigenvalues):.4f}\")\n",
        "print(f\"Норма разницы между точным решением и решением, полученным с помощью numpy.linalg.solve: {np.linalg.norm(x_true - np.linalg.solve(A, b)):.4f}\\n\")\n",
        "\n",
        "# запускаем метод Ричардсона для трех различных значений tau\n",
        "for tau in tau_values:\n",
        "    x, residuals = richardson_iteration(A, b, tau, max_iter, tol)\n",
        "    print(f\"Значение параметра tau: {tau:.4f}\")\n",
        "    print(f\"Количество итераций: {len(residuals)}\")\n",
        "    print(f\"Норма разницы между точным решением и приближенным решением: {np.linalg.norm(x_true - x):.4f}\")\n",
        "    print(f\"Норма невязки на последней итерации: {residuals[-1]:.4f}\\n\")\n",
        "\n",
        "# строим график изменения нормы невязки на каждой итерации для произвольного значения tau\n",
        "x_random_tau, residuals_optimal = richardson_iteration(A, b, tau_random, max_iter, tol)\n",
        "plt.semilogy(residuals_optimal, label=\"Random tau\")\n",
        "\n",
        "# строим график изменения нормы невязки на каждой итерации для оптимального значения tau, рассчитанного по оценке собственных чисел\n",
        "x_optimal_estimated, residuals_optimal = richardson_iteration(A, b, tau_optimal_estimated, max_iter, tol)\n",
        "plt.semilogy(residuals_optimal, label='Optimal estimated tau')\n",
        "\n",
        "# строим график изменения нормы невязки на каждой итерации для оптимального значения tau, рассчитанного по точным собственным числам\n",
        "x_optimal_exact, residuals_optimal = richardson_iteration(A, b, tau_optimal_exact, max_iter, tol)\n",
        "plt.semilogy(residuals_optimal, label='Optimal exact tau')\n",
        "\n",
        "# вычисляем точное решение\n",
        "x_exact = np.linalg.solve(A, b)\n",
        "\n",
        "# выводим норму разницы между приближенным и точным решениями\n",
        "print(f'Норма разницы между случайным tau и точным tau: {np.linalg.norm(x_random_tau - x_exact)}')\n",
        "print(f'Норма разницы между оптимальным оцененным tau и точным tau: {np.linalg.norm(x_optimal_estimated - x_exact)}')\n",
        "print(f'Норма разницы между оптимальным точным tau и точным tau: {np.linalg.norm(x_optimal_exact - x_exact)}')\n",
        "\n",
        "plt.legend()\n",
        "plt.show()\n"
      ],
      "metadata": {
        "colab": {
          "base_uri": "https://localhost:8080/",
          "height": 682
        },
        "id": "301uxsWJ72k9",
        "outputId": "c68983b1-848f-4dd2-e152-b91771298e06"
      },
      "execution_count": 23,
      "outputs": [
        {
          "output_type": "stream",
          "name": "stdout",
          "text": [
            "Произвольное значение параметра tau: 0.0070\n",
            "Оптимальное значение параметра tau, рассчитанного по точным собственным числам: 0.0085\n",
            "Оптимальное значение параметра tau, рассчитанное по оценке собственных чисел: 0.0061\n",
            "Максимальное и минимальное собственные числа: 236.1318, 0.1828\n",
            "Норма разницы между точным решением и решением, полученным с помощью numpy.linalg.solve: 0.0000\n",
            "\n",
            "Значение параметра tau: 0.0001\n",
            "Количество итераций: 1000\n",
            "Норма разницы между точным решением и приближенным решением: 0.1408\n",
            "Норма невязки на последней итерации: 0.6263\n",
            "\n",
            "Значение параметра tau: 0.0010\n",
            "Количество итераций: 1000\n",
            "Норма разницы между точным решением и приближенным решением: 0.1244\n",
            "Норма невязки на последней итерации: 0.1949\n",
            "\n",
            "Значение параметра tau: 0.0100\n",
            "Количество итераций: 1000\n",
            "Норма разницы между точным решением и приближенным решением: 0.0671\n",
            "Норма невязки на последней итерации: 0.0272\n",
            "\n",
            "Норма разницы между случайным tau и точным tau: 0.08131540984111797\n",
            "Норма разницы между оптимальным оцененным tau и точным tau: 0.08624766645616304\n",
            "Норма разницы между оптимальным точным tau и точным tau: 0.0741566482778334\n"
          ]
        },
        {
          "output_type": "display_data",
          "data": {
            "text/plain": [
              "<Figure size 432x288 with 1 Axes>"
            ],
            "image/png": "[encoded data removed]"
          },
          "metadata": {
            "needs_background": "light"
          }
        }
      ]
    }
  ]
}
